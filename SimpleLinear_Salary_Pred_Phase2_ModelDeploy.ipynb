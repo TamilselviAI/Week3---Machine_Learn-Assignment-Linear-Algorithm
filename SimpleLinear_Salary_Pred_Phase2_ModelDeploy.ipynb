{
 "cells": [
  {
   "cell_type": "code",
   "execution_count": 3,
   "id": "7f955c20-73af-4441-9c8b-e37adbe6d9b2",
   "metadata": {},
   "outputs": [],
   "source": [
    "# Deployment Phase\n",
    "# load the saved file\n",
    "# pickle has the saved file and calling file into deployment file\n",
    "import pickle"
   ]
  },
  {
   "cell_type": "code",
   "execution_count": 4,
   "id": "f9b4eb02-31e7-4b1d-b8e8-9ea8b743b980",
   "metadata": {},
   "outputs": [],
   "source": [
    "#rb is the read binary from the saved file\n",
    "loaded_model = pickle.load(open(\"finalized_model_linear.sav\",'rb'))"
   ]
  },
  {
   "cell_type": "code",
   "execution_count": 5,
   "id": "bf2079a7-1797-4340-b491-e4bed36f12e7",
   "metadata": {},
   "outputs": [
    {
     "name": "stderr",
     "output_type": "stream",
     "text": [
      "C:\\Anaconda\\Lib\\site-packages\\sklearn\\base.py:493: UserWarning: X does not have valid feature names, but LinearRegression was fitted with feature names\n",
      "  warnings.warn(\n"
     ]
    },
    {
     "data": {
      "text/plain": [
       "array([[148460.78806172]])"
      ]
     },
     "execution_count": 5,
     "metadata": {},
     "output_type": "execute_result"
    }
   ],
   "source": [
    "#result is variable defined to get the predict output\n",
    "# predict is the function to calculate predicted value\n",
    "result = loaded_model.predict([[13]])\n",
    "result\n",
    "\n",
    "# File Loaded"
   ]
  },
  {
   "cell_type": "code",
   "execution_count": null,
   "id": "267217f2-6705-4500-b056-7bb4f2d92cd4",
   "metadata": {},
   "outputs": [],
   "source": []
  }
 ],
 "metadata": {
  "kernelspec": {
   "display_name": "Python 3 (ipykernel)",
   "language": "python",
   "name": "python3"
  },
  "language_info": {
   "codemirror_mode": {
    "name": "ipython",
    "version": 3
   },
   "file_extension": ".py",
   "mimetype": "text/x-python",
   "name": "python",
   "nbconvert_exporter": "python",
   "pygments_lexer": "ipython3",
   "version": "3.12.7"
  }
 },
 "nbformat": 4,
 "nbformat_minor": 5
}
